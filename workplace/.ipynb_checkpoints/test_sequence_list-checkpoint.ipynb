{
 "cells": [
  {
   "cell_type": "code",
   "execution_count": 4,
   "metadata": {},
   "outputs": [
    {
     "name": "stdout",
     "output_type": "stream",
     "text": [
      "0\n"
     ]
    }
   ],
   "source": [
    "from src.sequence_list import SequenceList\n",
    "sequence1 = SequenceList()\n",
    "sequence1.addData('./data/test.csv')\n",
    "targetquery = [\n",
    "    [1502, 2215, 2153],\n",
    "    [1667, 2072, 2047],\n",
    "    [1611, 1957, 1906],\n",
    "    [1601, 1939, 1831],\n",
    "    [1643, 1965, 1879],\n",
    "    [1604, 1959, 1921],\n",
    "    [1640, 1829, 1940],\n",
    "    [1607, 1910, 1910],\n",
    "    [1546, 2045, 1910],\n",
    "    [1529, 2049, 1972],\n",
    "]\n",
    "print(sequence1.getNearestLabel(targetquery))"
   ]
  },
  {
   "cell_type": "code",
   "execution_count": null,
   "metadata": {},
   "outputs": [],
   "source": []
  }
 ],
 "metadata": {
  "kernelspec": {
   "display_name": "Python 3",
   "language": "python",
   "name": "python3"
  },
  "language_info": {
   "codemirror_mode": {
    "name": "ipython",
    "version": 3
   },
   "file_extension": ".py",
   "mimetype": "text/x-python",
   "name": "python",
   "nbconvert_exporter": "python",
   "pygments_lexer": "ipython3",
   "version": "3.8.2"
  }
 },
 "nbformat": 4,
 "nbformat_minor": 4
}
